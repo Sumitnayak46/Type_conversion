1. integer_value = 42
   float_value = float(integer_value)

2.float_value = 42.99
  integer_value = int(float_value)

3.integer_value = 42
  string_value = str(integer_value)

4.list_value = [1, 2, 3]
  tuple_value = tuple(list_value)

5.tuple_value = (1, 2, 3)
  list_value = list(tuple_value)

6.decimal_number = 42
  binary_string = bin(decimal_number)

7.number = 42
  boolean_value = bool(number)
